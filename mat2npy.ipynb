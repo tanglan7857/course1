{
 "cells": [
  {
   "cell_type": "code",
   "execution_count": 10,
   "metadata": {},
   "outputs": [
    {
     "name": "stdout",
     "output_type": "stream",
     "text": [
      "dict_keys(['__header__', '__version__', '__globals__', 'x1'])\n",
      "dict_values([b'MATLAB 5.0 MAT-file, Platform: PCWIN64, Created on: Thu Apr 23 16:17:37 2020', '1.0', [], array([[0.        , 0.79127273, 0.81925284, ..., 0.778375  , 0.78180952,\n",
      "        0.78712054],\n",
      "       [0.        , 0.816     , 0.82828125, ..., 0.81619643, 0.82971429,\n",
      "        0.8356875 ],\n",
      "       [0.        , 0.852     , 0.81553125, ..., 0.85325   , 0.85314286,\n",
      "        0.85912054],\n",
      "       ...,\n",
      "       [0.        , 0.596     , 0.61011679, ..., 0.7347013 , 0.72658816,\n",
      "        0.66503823],\n",
      "       [0.        , 0.81771429, 0.83941458, ..., 0.63152102, 0.63154586,\n",
      "        0.62535779],\n",
      "       [0.        , 0.596     , 0.596     , ..., 0.55940736, 0.54000205,\n",
      "        0.54062986]])])\n"
     ]
    }
   ],
   "source": [
    "import scipy.io as io\n",
    "matr = io.loadmat('C:/Users/78578/Desktop/project/data/rr_test_all.mat')\n",
    "\n",
    "#查看字典中的主键\n",
    "print(matr.keys()) \n",
    "print(matr.values()) "
   ]
  },
  {
   "cell_type": "code",
   "execution_count": 11,
   "metadata": {},
   "outputs": [],
   "source": [
    "#假设字典中'x1'是你要的数据：\n",
    "data = matr['x1']\n",
    "#转换为.npy文件：\n",
    "import numpy as np\n",
    "numpy_data = np.transpose(data)\n",
    "npy_data = numpy_data.T  #转置\n",
    "#保存为numpy数组文件（.npy文件）\n",
    "np.save('C:/Users/78578/Desktop/project/data/test_npy.npy',npy_data)"
   ]
  },
  {
   "cell_type": "code",
   "execution_count": 12,
   "metadata": {},
   "outputs": [
    {
     "name": "stdout",
     "output_type": "stream",
     "text": [
      "数组形状： (17122, 101)\n"
     ]
    }
   ],
   "source": [
    "import numpy as np  \n",
    "a = np.load(\"C:/Users/78578/Desktop/project/data/test_npy.npy\")\n",
    "print(\"数组形状：\",a.shape)"
   ]
  },
  {
   "cell_type": "markdown",
   "metadata": {},
   "source": [
    "# 标签和数据分割"
   ]
  },
  {
   "cell_type": "code",
   "execution_count": 13,
   "metadata": {},
   "outputs": [
    {
     "name": "stdout",
     "output_type": "stream",
     "text": [
      "(17122,)\n"
     ]
    },
    {
     "data": {
      "text/plain": [
       "array([0., 0., 0., ..., 0., 0., 0.])"
      ]
     },
     "execution_count": 13,
     "metadata": {},
     "output_type": "execute_result"
    }
   ],
   "source": [
    "import numpy as np  \n",
    "a1 = np.load(\"C:/Users/78578/Desktop/project/data/test_npy.npy\")\n",
    "mask = a1[:,0]\n",
    "print(mask.shape)\n",
    "mask"
   ]
  },
  {
   "cell_type": "code",
   "execution_count": 14,
   "metadata": {},
   "outputs": [
    {
     "name": "stdout",
     "output_type": "stream",
     "text": [
      "(17122, 100)\n"
     ]
    },
    {
     "data": {
      "text/plain": [
       "array([[0.79127273, 0.81925284, 0.84370455, ..., 0.778375  , 0.78180952,\n",
       "        0.78712054],\n",
       "       [0.816     , 0.82828125, 0.83775   , ..., 0.81619643, 0.82971429,\n",
       "        0.8356875 ],\n",
       "       [0.852     , 0.81553125, 0.79875   , ..., 0.85325   , 0.85314286,\n",
       "        0.85912054],\n",
       "       ...,\n",
       "       [0.596     , 0.61011679, 0.61935915, ..., 0.7347013 , 0.72658816,\n",
       "        0.66503823],\n",
       "       [0.81771429, 0.83941458, 0.83432645, ..., 0.63152102, 0.63154586,\n",
       "        0.62535779],\n",
       "       [0.596     , 0.596     , 0.596     , ..., 0.55940736, 0.54000205,\n",
       "        0.54062986]])"
      ]
     },
     "execution_count": 14,
     "metadata": {},
     "output_type": "execute_result"
    }
   ],
   "source": [
    "data = a1[:,1:]\n",
    "print(data.shape)\n",
    "data"
   ]
  },
  {
   "cell_type": "code",
   "execution_count": null,
   "metadata": {},
   "outputs": [],
   "source": []
  }
 ],
 "metadata": {
  "kernelspec": {
   "display_name": "Python 3",
   "language": "python",
   "name": "python3"
  },
  "language_info": {
   "codemirror_mode": {
    "name": "ipython",
    "version": 3
   },
   "file_extension": ".py",
   "mimetype": "text/x-python",
   "name": "python",
   "nbconvert_exporter": "python",
   "pygments_lexer": "ipython3",
   "version": "3.6.7"
  }
 },
 "nbformat": 4,
 "nbformat_minor": 2
}
