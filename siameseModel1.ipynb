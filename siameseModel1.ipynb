{
 "cells": [
  {
   "cell_type": "code",
   "execution_count": 15,
   "metadata": {},
   "outputs": [],
   "source": [
    "from __future__ import absolute_import\n",
    "from __future__ import print_function\n",
    "import numpy as np\n",
    "\n",
    "import random\n",
    "from keras.datasets import mnist\n",
    "from keras.models import Model\n",
    "from keras.layers import Input, Flatten, Dense, Dropout, Lambda, Conv1D, MaxPooling1D, BatchNormalization\n",
    "from keras.optimizers import RMSprop\n",
    "from keras import backend as K\n",
    "from sklearn import preprocessing"
   ]
  },
  {
   "cell_type": "markdown",
   "metadata": {},
   "source": [
    "##  训练、测试数据"
   ]
  },
  {
   "cell_type": "markdown",
   "metadata": {},
   "source": [
    "## 生成数据的函数"
   ]
  },
  {
   "cell_type": "code",
   "execution_count": 16,
   "metadata": {},
   "outputs": [],
   "source": [
    "num_classes = 2\n",
    "epochs = 50\n",
    "\n",
    "train = np.load('C:/Users/78578/Desktop/project/data/train_npy.npy')\n",
    "test = np.load('C:/Users/78578/Desktop/project/data/test_npy.npy')\n",
    "x_train = train[:, 1:]\n",
    "y_train = train[:, :1]\n",
    "\n",
    "x_test = test[:, 1:]\n",
    "y_test = test[:, :1]\n",
    "\n",
    "x_train = x_train.astype('float32')\n",
    "x_test = x_test.astype('float32')\n",
    "\n",
    "\n",
    "x_train = x_train.reshape(x_train.shape[0], x_train.shape[1], 1)\n",
    "x_test = x_test.reshape(x_test.shape[0], x_test.shape[1], 1)"
   ]
  },
  {
   "cell_type": "code",
   "execution_count": 20,
   "metadata": {},
   "outputs": [
    {
     "data": {
      "text/plain": [
       "-6.652"
      ]
     },
     "execution_count": 20,
     "metadata": {},
     "output_type": "execute_result"
    }
   ],
   "source": [
    "x_test.min()"
   ]
  },
  {
   "cell_type": "code",
   "execution_count": 21,
   "metadata": {},
   "outputs": [
    {
     "data": {
      "text/plain": [
       "51.762714"
      ]
     },
     "execution_count": 21,
     "metadata": {},
     "output_type": "execute_result"
    }
   ],
   "source": [
    "x_test.max()"
   ]
  },
  {
   "cell_type": "code",
   "execution_count": 4,
   "metadata": {},
   "outputs": [],
   "source": [
    "def euclidean_distance(vects):\n",
    "    x, y = vects\n",
    "    sum_square = K.sum(K.square(x - y), axis=1, keepdims=True)\n",
    "    return K.sqrt(K.maximum(sum_square, K.epsilon()))\n",
    "\n",
    "\n",
    "def eucl_dist_output_shape(shapes):\n",
    "    shape1, shape2 = shapes\n",
    "    return (shape1[0], 1)\n",
    "\n",
    "\n",
    "def contrastive_loss(y_true, y_pred):\n",
    "    '''Contrastive loss from Hadsell-et-al.'06\n",
    "    http://yann.lecun.com/exdb/publis/pdf/hadsell-chopra-lecun-06.pdf\n",
    "    '''\n",
    "    margin = 1\n",
    "    square_pred = K.square(y_pred)\n",
    "    margin_square = K.square(K.maximum(margin - y_pred, 0))\n",
    "    return K.mean(y_true * square_pred + (1 - y_true) * margin_square)\n",
    "\n",
    "\n",
    "def create_pairs(x, digit_indices):\n",
    "    '''Positive and negative pair creation.\n",
    "    Alternates between positive and negative pairs.\n",
    "    '''\n",
    "    pairs = []\n",
    "    labels = []\n",
    "    n = min([len(digit_indices[d]) for d in range(num_classes)]) - 1\n",
    "    for d in range(num_classes):\n",
    "        for i in range(n):\n",
    "            z1, z2 = digit_indices[d][i], digit_indices[d][i + 1]\n",
    "            pairs += [[x[z1], x[z2]]]\n",
    "            inc = random.randrange(1, num_classes)\n",
    "            dn = (d + inc) % num_classes\n",
    "            z1, z2 = digit_indices[d][i], digit_indices[dn][i]\n",
    "            pairs += [[x[z1], x[z2]]]\n",
    "            labels += [1, 0]\n",
    "    return np.array(pairs), np.array(labels)\n",
    "\n",
    "\n",
    "def compute_accuracy(y_true, y_pred):\n",
    "    '''Compute classification accuracy with a fixed threshold on distances.\n",
    "    '''\n",
    "    pred = y_pred.ravel() < 0.5\n",
    "    return np.mean(pred == y_true)\n",
    "\n",
    "\n",
    "def accuracy(y_true, y_pred):\n",
    "    '''Compute classification accuracy with a fixed threshold on distances.\n",
    "    '''\n",
    "    return K.mean(K.equal(y_true, K.cast(y_pred < 0.5, y_true.dtype)))"
   ]
  },
  {
   "cell_type": "markdown",
   "metadata": {},
   "source": [
    "## 构建模型"
   ]
  },
  {
   "cell_type": "code",
   "execution_count": 5,
   "metadata": {},
   "outputs": [
    {
     "name": "stdout",
     "output_type": "stream",
     "text": [
      "WARNING:tensorflow:From E:\\Anaconda3\\lib\\site-packages\\keras\\backend\\tensorflow_backend.py:3313: add_dispatch_support.<locals>.wrapper (from tensorflow.python.ops.array_ops) is deprecated and will be removed in a future version.\n",
      "Instructions for updating:\n",
      "Use tf.where in 2.0, which has the same broadcast rule as np.where\n",
      "WARNING:tensorflow:From E:\\Anaconda3\\lib\\site-packages\\keras\\backend\\tensorflow_backend.py:4070: The name tf.nn.max_pool is deprecated. Please use tf.nn.max_pool2d instead.\n",
      "\n"
     ]
    }
   ],
   "source": [
    "def create_base_network(input_shape):\n",
    "    '''Base network to be shared (eq. to feature extraction).\n",
    "    '''\n",
    "    input = Input(shape=input_shape)\n",
    "    x = Conv1D(8, 3, activation=\"selu\")(input)\n",
    "    x = BatchNormalization()(x)\n",
    "    x = MaxPooling1D(2)(x)   \n",
    "    x = Conv1D(8, 3, activation=\"selu\")(x)\n",
    "    x = BatchNormalization()(x)\n",
    "    x = MaxPooling1D(2, padding=\"same\")(x)             \n",
    "    x = Flatten()(x)\n",
    "    return Model(input, x)\n",
    "\n",
    "input_shape = x_train.shape[1:]\n",
    "# create training+test positive and negative pairs\n",
    "digit_indices = [np.where(y_train == i)[0] for i in range(num_classes)]\n",
    "tr_pairs, tr_y = create_pairs(x_train, digit_indices)\n",
    "\n",
    "digit_indices = [np.where(y_test == i)[0] for i in range(num_classes)]\n",
    "te_pairs, te_y = create_pairs(x_test, digit_indices)\n",
    "\n",
    "# network definition\n",
    "base_network = create_base_network(input_shape)\n",
    "\n",
    "input_a = Input(shape=input_shape)\n",
    "input_b = Input(shape=input_shape)\n",
    "\n",
    "# because we re-use the same instance `base_network`,\n",
    "# the weights of the network\n",
    "# will be shared across the two branches\n",
    "processed_a = base_network(input_a)\n",
    "processed_b = base_network(input_b)\n",
    "\n",
    "distance = Lambda(euclidean_distance,\n",
    "                  output_shape=eucl_dist_output_shape)([processed_a, processed_b])\n",
    "\n",
    "model = Model([input_a, input_b], distance)"
   ]
  },
  {
   "cell_type": "code",
   "execution_count": 6,
   "metadata": {},
   "outputs": [
    {
     "name": "stdout",
     "output_type": "stream",
     "text": [
      "Model: \"model_2\"\n",
      "__________________________________________________________________________________________________\n",
      "Layer (type)                    Output Shape         Param #     Connected to                     \n",
      "==================================================================================================\n",
      "input_2 (InputLayer)            (None, 100, 1)       0                                            \n",
      "__________________________________________________________________________________________________\n",
      "input_3 (InputLayer)            (None, 100, 1)       0                                            \n",
      "__________________________________________________________________________________________________\n",
      "model_1 (Model)                 (None, 192)          296         input_2[0][0]                    \n",
      "                                                                 input_3[0][0]                    \n",
      "__________________________________________________________________________________________________\n",
      "lambda_1 (Lambda)               (None, 1)            0           model_1[1][0]                    \n",
      "                                                                 model_1[2][0]                    \n",
      "==================================================================================================\n",
      "Total params: 296\n",
      "Trainable params: 264\n",
      "Non-trainable params: 32\n",
      "__________________________________________________________________________________________________\n"
     ]
    }
   ],
   "source": [
    "model.summary()"
   ]
  },
  {
   "cell_type": "markdown",
   "metadata": {},
   "source": [
    "## 训练模型"
   ]
  },
  {
   "cell_type": "code",
   "execution_count": 7,
   "metadata": {},
   "outputs": [
    {
     "name": "stdout",
     "output_type": "stream",
     "text": [
      "WARNING:tensorflow:From E:\\Anaconda3\\lib\\site-packages\\keras\\backend\\tensorflow_backend.py:422: The name tf.global_variables is deprecated. Please use tf.compat.v1.global_variables instead.\n",
      "\n",
      "Train on 25908 samples, validate on 26064 samples\n",
      "Epoch 1/50\n",
      "25908/25908 [==============================] - 6s 232us/step - loss: 78.0381 - accuracy: 0.4999 - val_loss: 17.3795 - val_accuracy: 0.5009\n",
      "Epoch 2/50\n",
      "25908/25908 [==============================] - 5s 191us/step - loss: 44.7404 - accuracy: 0.5002 - val_loss: 27.1414 - val_accuracy: 0.5007\n",
      "Epoch 3/50\n",
      "25908/25908 [==============================] - 5s 191us/step - loss: 27.8257 - accuracy: 0.5003 - val_loss: 17.8468 - val_accuracy: 0.5015\n",
      "Epoch 4/50\n",
      "25908/25908 [==============================] - 5s 194us/step - loss: 16.7752 - accuracy: 0.5004 - val_loss: 11.3634 - val_accuracy: 0.5033\n",
      "Epoch 5/50\n",
      "25908/25908 [==============================] - 5s 200us/step - loss: 9.5691 - accuracy: 0.5017 - val_loss: 6.3299 - val_accuracy: 0.5082\n",
      "Epoch 6/50\n",
      "25908/25908 [==============================] - 6s 228us/step - loss: 5.1792 - accuracy: 0.5045 - val_loss: 3.6278 - val_accuracy: 0.5191\n",
      "Epoch 7/50\n",
      "25908/25908 [==============================] - 6s 231us/step - loss: 2.8350 - accuracy: 0.5181 - val_loss: 2.0408 - val_accuracy: 0.5429\n",
      "Epoch 8/50\n",
      "25908/25908 [==============================] - 8s 292us/step - loss: 1.4940 - accuracy: 0.5481 - val_loss: 1.1303 - val_accuracy: 0.5810\n",
      "Epoch 9/50\n",
      "25908/25908 [==============================] - 7s 278us/step - loss: 0.7745 - accuracy: 0.6036 - val_loss: 0.5662 - val_accuracy: 0.6658\n",
      "Epoch 10/50\n",
      "25908/25908 [==============================] - 7s 263us/step - loss: 0.4277 - accuracy: 0.6502 - val_loss: 0.3548 - val_accuracy: 0.7192\n",
      "Epoch 11/50\n",
      "25908/25908 [==============================] - 7s 257us/step - loss: 0.2893 - accuracy: 0.6708 - val_loss: 0.2699 - val_accuracy: 0.7329\n",
      "Epoch 12/50\n",
      "25908/25908 [==============================] - 7s 265us/step - loss: 0.2400 - accuracy: 0.6752 - val_loss: 0.2292 - val_accuracy: 0.7371\n",
      "Epoch 13/50\n",
      "25908/25908 [==============================] - 7s 264us/step - loss: 0.2190 - accuracy: 0.6822 - val_loss: 0.2112 - val_accuracy: 0.7325\n",
      "Epoch 14/50\n",
      "25908/25908 [==============================] - 7s 274us/step - loss: 0.2077 - accuracy: 0.6885 - val_loss: 0.1995 - val_accuracy: 0.7420\n",
      "Epoch 15/50\n",
      "25908/25908 [==============================] - 7s 268us/step - loss: 0.2018 - accuracy: 0.6916 - val_loss: 0.1918 - val_accuracy: 0.7389\n",
      "Epoch 16/50\n",
      "25908/25908 [==============================] - 7s 281us/step - loss: 0.1985 - accuracy: 0.6948 - val_loss: 0.1867 - val_accuracy: 0.7367\n",
      "Epoch 17/50\n",
      "25908/25908 [==============================] - 7s 257us/step - loss: 0.1950 - accuracy: 0.6955 - val_loss: 0.1832 - val_accuracy: 0.7384\n",
      "Epoch 18/50\n",
      "25908/25908 [==============================] - 7s 280us/step - loss: 0.1928 - accuracy: 0.6984 - val_loss: 0.1803 - val_accuracy: 0.7464\n",
      "Epoch 19/50\n",
      "25908/25908 [==============================] - 7s 282us/step - loss: 0.1909 - accuracy: 0.6980 - val_loss: 0.1792 - val_accuracy: 0.7415\n",
      "Epoch 20/50\n",
      "25908/25908 [==============================] - 7s 287us/step - loss: 0.1898 - accuracy: 0.6998 - val_loss: 0.1774 - val_accuracy: 0.7428\n",
      "Epoch 21/50\n",
      "25908/25908 [==============================] - 8s 290us/step - loss: 0.1890 - accuracy: 0.7001 - val_loss: 0.1757 - val_accuracy: 0.7497\n",
      "Epoch 22/50\n",
      "25908/25908 [==============================] - 9s 329us/step - loss: 0.1878 - accuracy: 0.7031 - val_loss: 0.1736 - val_accuracy: 0.7471\n",
      "Epoch 23/50\n",
      "25908/25908 [==============================] - 8s 299us/step - loss: 0.1872 - accuracy: 0.7043 - val_loss: 0.1748 - val_accuracy: 0.7484\n",
      "Epoch 24/50\n",
      "25908/25908 [==============================] - 8s 311us/step - loss: 0.1866 - accuracy: 0.7040 - val_loss: 0.1722 - val_accuracy: 0.7481\n",
      "Epoch 25/50\n",
      "25908/25908 [==============================] - 7s 261us/step - loss: 0.1855 - accuracy: 0.7052 - val_loss: 0.1717 - val_accuracy: 0.7535\n",
      "Epoch 26/50\n",
      "25908/25908 [==============================] - 7s 263us/step - loss: 0.1852 - accuracy: 0.7064 - val_loss: 0.1705 - val_accuracy: 0.7530\n",
      "Epoch 27/50\n",
      "25908/25908 [==============================] - 7s 254us/step - loss: 0.1849 - accuracy: 0.7065 - val_loss: 0.1759 - val_accuracy: 0.7478\n",
      "Epoch 28/50\n",
      "25908/25908 [==============================] - 6s 245us/step - loss: 0.1843 - accuracy: 0.7077 - val_loss: 0.1712 - val_accuracy: 0.7515\n",
      "Epoch 29/50\n",
      "25908/25908 [==============================] - 6s 238us/step - loss: 0.1838 - accuracy: 0.7079 - val_loss: 0.1753 - val_accuracy: 0.7433\n",
      "Epoch 30/50\n",
      "25908/25908 [==============================] - 7s 275us/step - loss: 0.1832 - accuracy: 0.7096 - val_loss: 0.1732 - val_accuracy: 0.7542\n",
      "Epoch 31/50\n",
      "25908/25908 [==============================] - 7s 268us/step - loss: 0.1824 - accuracy: 0.7095 - val_loss: 0.1750 - val_accuracy: 0.7493\n",
      "Epoch 32/50\n",
      "25908/25908 [==============================] - 7s 267us/step - loss: 0.1821 - accuracy: 0.7112 - val_loss: 0.1794 - val_accuracy: 0.7417\n",
      "Epoch 33/50\n",
      "25908/25908 [==============================] - 6s 239us/step - loss: 0.1817 - accuracy: 0.7103 - val_loss: 0.1703 - val_accuracy: 0.7560\n",
      "Epoch 34/50\n",
      "25908/25908 [==============================] - 6s 238us/step - loss: 0.1808 - accuracy: 0.7129 - val_loss: 0.1783 - val_accuracy: 0.7460\n",
      "Epoch 35/50\n",
      "25908/25908 [==============================] - 6s 239us/step - loss: 0.1802 - accuracy: 0.7141 - val_loss: 0.1858 - val_accuracy: 0.7374\n",
      "Epoch 36/50\n",
      "25908/25908 [==============================] - 6s 239us/step - loss: 0.1793 - accuracy: 0.7156 - val_loss: 0.1800 - val_accuracy: 0.7394\n",
      "Epoch 37/50\n",
      "25908/25908 [==============================] - 6s 231us/step - loss: 0.1781 - accuracy: 0.7164 - val_loss: 0.1801 - val_accuracy: 0.7385\n",
      "Epoch 38/50\n",
      "25908/25908 [==============================] - 6s 234us/step - loss: 0.1782 - accuracy: 0.7186 - val_loss: 0.1708 - val_accuracy: 0.7507\n",
      "Epoch 39/50\n",
      "25908/25908 [==============================] - 6s 241us/step - loss: 0.1778 - accuracy: 0.7187 - val_loss: 0.1750 - val_accuracy: 0.7505\n",
      "Epoch 40/50\n",
      "25908/25908 [==============================] - 6s 236us/step - loss: 0.1774 - accuracy: 0.7195 - val_loss: 0.1612 - val_accuracy: 0.7624\n",
      "Epoch 41/50\n",
      "25908/25908 [==============================] - 6s 243us/step - loss: 0.1766 - accuracy: 0.7196 - val_loss: 0.1702 - val_accuracy: 0.7620\n",
      "Epoch 42/50\n",
      "25908/25908 [==============================] - 7s 275us/step - loss: 0.1764 - accuracy: 0.7211 - val_loss: 0.1608 - val_accuracy: 0.7657\n",
      "Epoch 43/50\n",
      "25908/25908 [==============================] - 6s 243us/step - loss: 0.1764 - accuracy: 0.7204 - val_loss: 0.1666 - val_accuracy: 0.7419\n",
      "Epoch 44/50\n",
      "25908/25908 [==============================] - 6s 243us/step - loss: 0.1762 - accuracy: 0.7203 - val_loss: 0.1691 - val_accuracy: 0.7533 loss:\n",
      "Epoch 45/50\n",
      "25908/25908 [==============================] - 6s 238us/step - loss: 0.1758 - accuracy: 0.7206 - val_loss: 0.1672 - val_accuracy: 0.7588\n",
      "Epoch 46/50\n",
      "25908/25908 [==============================] - 6s 242us/step - loss: 0.1754 - accuracy: 0.7227 - val_loss: 0.1684 - val_accuracy: 0.7317\n",
      "Epoch 47/50\n",
      "25908/25908 [==============================] - 6s 247us/step - loss: 0.1761 - accuracy: 0.7215 - val_loss: 0.1644 - val_accuracy: 0.7605\n",
      "Epoch 48/50\n",
      "25908/25908 [==============================] - 8s 305us/step - loss: 0.1752 - accuracy: 0.7218 - val_loss: 0.1644 - val_accuracy: 0.7480\n",
      "Epoch 49/50\n",
      "25908/25908 [==============================] - 7s 268us/step - loss: 0.1757 - accuracy: 0.7198 - val_loss: 0.1671 - val_accuracy: 0.7586\n",
      "Epoch 50/50\n",
      "25908/25908 [==============================] - 7s 256us/step - loss: 0.1751 - accuracy: 0.7193 - val_loss: 0.1612 - val_accuracy: 0.7540\n",
      "* Accuracy on training set: 71.48%\n",
      "* Accuracy on test set: 75.45%\n"
     ]
    }
   ],
   "source": [
    "# train\n",
    "model.compile(loss=contrastive_loss, optimizer='adam', metrics=[accuracy])\n",
    "history = model.fit([tr_pairs[:, 0], tr_pairs[:, 1]], tr_y,\n",
    "          batch_size=128,\n",
    "          epochs=epochs,\n",
    "          validation_data=([te_pairs[:, 0], te_pairs[:, 1]], te_y))\n",
    "\n",
    "# compute final accuracy on training and test sets\n",
    "y_pred = model.predict([tr_pairs[:, 0], tr_pairs[:, 1]])\n",
    "tr_acc = compute_accuracy(tr_y, y_pred)\n",
    "y_pred = model.predict([te_pairs[:, 0], te_pairs[:, 1]])\n",
    "te_acc = compute_accuracy(te_y, y_pred)\n",
    "\n",
    "print('* Accuracy on training set: %0.2f%%' % (100 * tr_acc))\n",
    "print('* Accuracy on test set: %0.2f%%' % (100 * te_acc))\n"
   ]
  },
  {
   "cell_type": "markdown",
   "metadata": {},
   "source": [
    "## 可视化训练结果"
   ]
  },
  {
   "cell_type": "code",
   "execution_count": 8,
   "metadata": {},
   "outputs": [
    {
     "name": "stdout",
     "output_type": "stream",
     "text": [
      "Populating the interactive namespace from numpy and matplotlib\n"
     ]
    },
    {
     "name": "stderr",
     "output_type": "stream",
     "text": [
      "E:\\Anaconda3\\lib\\site-packages\\IPython\\core\\magics\\pylab.py:160: UserWarning: pylab import has clobbered these variables: ['random', 'test']\n",
      "`%matplotlib` prevents importing * from pylab and numpy\n",
      "  \"\\n`%matplotlib` prevents importing * from pylab and numpy\"\n"
     ]
    },
    {
     "data": {
      "image/png": "[encoded data removed]",
      "text/plain": [
       "<Figure size 432x288 with 1 Axes>"
      ]
     },
     "metadata": {
      "needs_background": "light"
     },
     "output_type": "display_data"
    },
    {
     "data": {
      "image/png": "[encoded data removed]",
      "text/plain": [
       "<Figure size 432x288 with 1 Axes>"
      ]
     },
     "metadata": {
      "needs_background": "light"
     },
     "output_type": "display_data"
    }
   ],
   "source": [
    "import matplotlib.pyplot as plt\n",
    "%pylab inline\n",
    "# 绘制训练 & 验证的准确率值\n",
    "plt.plot(history.history['accuracy'])\n",
    "plt.plot(history.history['val_accuracy'])\n",
    "plt.title('Model accuracy')\n",
    "plt.ylabel('Accuracy')\n",
    "plt.xlabel('Epoch')\n",
    "plt.legend(['Train', 'Test'], loc='upper left')\n",
    "plt.show()\n",
    "\n",
    "# 绘制训练 & 验证的损失值\n",
    "plt.plot(history.history['loss'])\n",
    "plt.plot(history.history['val_loss'])\n",
    "plt.title('Model loss')\n",
    "plt.ylabel('Loss')\n",
    "plt.xlabel('Epoch')\n",
    "plt.legend(['Train', 'Test'], loc='upper left')\n",
    "plt.show()"
   ]
  },
  {
   "cell_type": "code",
   "execution_count": 9,
   "metadata": {},
   "outputs": [],
   "source": [
    "import numpy as np\n",
    "from sklearn.preprocessing import normalize\n",
    "\n",
    "x = np.random.rand(2)\n",
    "norm = normalize(x[:,np.newaxis], axis=0).ravel()"
   ]
  },
  {
   "cell_type": "code",
   "execution_count": 10,
   "metadata": {},
   "outputs": [
    {
     "data": {
      "text/plain": [
       "array([0.4926101 , 0.53799646])"
      ]
     },
     "execution_count": 10,
     "metadata": {},
     "output_type": "execute_result"
    }
   ],
   "source": [
    "x "
   ]
  },
  {
   "cell_type": "code",
   "execution_count": 11,
   "metadata": {},
   "outputs": [
    {
     "data": {
      "text/plain": [
       "array([0.67531234, 0.73753186])"
      ]
     },
     "execution_count": 11,
     "metadata": {},
     "output_type": "execute_result"
    }
   ],
   "source": [
    "norm"
   ]
  },
  {
   "cell_type": "code",
   "execution_count": 12,
   "metadata": {},
   "outputs": [
    {
     "data": {
      "text/plain": [
       "0.4284348"
      ]
     },
     "execution_count": 12,
     "metadata": {},
     "output_type": "execute_result"
    }
   ],
   "source": [
    "0.01551107 + 0.41292373"
   ]
  },
  {
   "cell_type": "code",
   "execution_count": 13,
   "metadata": {},
   "outputs": [
    {
     "data": {
      "text/plain": [
       "0.03620403851414498"
      ]
     },
     "execution_count": 13,
     "metadata": {},
     "output_type": "execute_result"
    }
   ],
   "source": [
    "0.01551107 / 0.4284348"
   ]
  },
  {
   "cell_type": "code",
   "execution_count": null,
   "metadata": {},
   "outputs": [],
   "source": []
  }
 ],
 "metadata": {
  "kernelspec": {
   "display_name": "Python 3",
   "language": "python",
   "name": "python3"
  },
  "language_info": {
   "codemirror_mode": {
    "name": "ipython",
    "version": 3
   },
   "file_extension": ".py",
   "mimetype": "text/x-python",
   "name": "python",
   "nbconvert_exporter": "python",
   "pygments_lexer": "ipython3",
   "version": "3.7.6"
  }
 },
 "nbformat": 4,
 "nbformat_minor": 2
}
