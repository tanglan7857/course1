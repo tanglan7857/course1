{
 "cells": [
  {
   "cell_type": "code",
   "execution_count": 6,
   "metadata": {},
   "outputs": [
    {
     "name": "stdout",
     "output_type": "stream",
     "text": [
      "dict_keys(['__header__', '__version__', '__globals__', 'x1'])\n",
      "dict_values([b'MATLAB 5.0 MAT-file, Platform: PCWIN64, Created on: Thu Apr 23 16:18:36 2020', '1.0', [], array([[0.        , 0.9504    , 0.91017596, ..., 0.9279857 , 0.90864443,\n",
      "        0.88728025],\n",
      "       [0.        , 0.944     , 0.92151884, ..., 0.80947454, 0.81089671,\n",
      "        0.82748167],\n",
      "       [0.        , 0.97527273, 0.93375943, ..., 0.77393658, 0.77883878,\n",
      "        0.7789887 ],\n",
      "       ...,\n",
      "       [0.        , 1.04      , 1.0488935 , ..., 1.06690027, 1.08339927,\n",
      "        1.084     ],\n",
      "       [0.        , 1.168     , 1.11009917, ..., 1.09109896, 1.06017466,\n",
      "        1.04861729],\n",
      "       [0.        , 1.04      , 1.05308113, ..., 0.91347238, 0.90984889,\n",
      "        0.89881039]])])\n"
     ]
    }
   ],
   "source": [
    "import scipy.io as io\n",
    "matr = io.loadmat('C:/Users/78578/Desktop/project/data/rr_test_all.mat')\n",
    "\n",
    "#查看字典中的主键\n",
    "print(matr.keys()) \n",
    "print(matr.values()) "
   ]
  },
  {
   "cell_type": "code",
   "execution_count": 8,
   "metadata": {},
   "outputs": [],
   "source": [
    "#假设字典中'x1'是你要的数据：\n",
    "data = matr['x1']\n",
    "#转换为.npy文件：\n",
    "import numpy as np\n",
    "numpy_data = np.transpose(data)\n",
    "npy_data = numpy_data.T  #转置\n",
    "#保存为numpy数组文件（.npy文件）\n",
    "np.save('C:/Users/78578/Desktop/project/data/test_npy.npy',npy_data)"
   ]
  },
  {
   "cell_type": "code",
   "execution_count": 9,
   "metadata": {},
   "outputs": [
    {
     "name": "stdout",
     "output_type": "stream",
     "text": [
      "数组形状： (16857, 101)\n"
     ]
    }
   ],
   "source": [
    "import numpy as np  \n",
    "a = np.load(\"C:/Users/78578/Desktop/project/data/test_npy.npy\")\n",
    "print(\"数组形状：\",a.shape)"
   ]
  },
  {
   "cell_type": "code",
   "execution_count": null,
   "metadata": {},
   "outputs": [],
   "source": []
  }
 ],
 "metadata": {
  "kernelspec": {
   "display_name": "Python 3",
   "language": "python",
   "name": "python3"
  },
  "language_info": {
   "codemirror_mode": {
    "name": "ipython",
    "version": 3
   },
   "file_extension": ".py",
   "mimetype": "text/x-python",
   "name": "python",
   "nbconvert_exporter": "python",
   "pygments_lexer": "ipython3",
   "version": "3.6.7"
  }
 },
 "nbformat": 4,
 "nbformat_minor": 2
}
