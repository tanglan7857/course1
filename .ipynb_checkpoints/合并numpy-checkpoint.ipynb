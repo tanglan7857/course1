{
 "cells": [
  {
   "cell_type": "code",
   "execution_count": 1,
   "metadata": {},
   "outputs": [],
   "source": [
    "import numpy as np"
   ]
  },
  {
   "cell_type": "markdown",
   "metadata": {},
   "source": [
    "# 获取数据"
   ]
  },
  {
   "cell_type": "code",
   "execution_count": 2,
   "metadata": {},
   "outputs": [],
   "source": [
    "npy = np.load('./spil_npy/rr_16857/x_1.npy')\n",
    "data = npy[0][0]"
   ]
  },
  {
   "cell_type": "code",
   "execution_count": 3,
   "metadata": {},
   "outputs": [
    {
     "data": {
      "text/plain": [
       "(488, 101)"
      ]
     },
     "execution_count": 3,
     "metadata": {},
     "output_type": "execute_result"
    }
   ],
   "source": [
    "data.shape"
   ]
  },
  {
   "cell_type": "code",
   "execution_count": 4,
   "metadata": {},
   "outputs": [
    {
     "data": {
      "text/plain": [
       "array([[0.        , 0.9504    , 0.91017596, ..., 0.9279857 , 0.90864443,\n",
       "        0.88728025],\n",
       "       [0.        , 0.944     , 0.92151884, ..., 0.80947454, 0.81089671,\n",
       "        0.82748167],\n",
       "       [0.        , 0.97527273, 0.93375943, ..., 0.77393658, 0.77883878,\n",
       "        0.7789887 ],\n",
       "       ...,\n",
       "       [1.        , 1.064     , 1.11398675, ..., 1.163317  , 1.083248  ,\n",
       "        1.1055555 ],\n",
       "       [1.        , 1.288     , 1.20777574, ..., 1.10673577, 1.19533924,\n",
       "        1.18931328],\n",
       "       [1.        , 1.008     , 1.11866864, ..., 1.14754931, 1.15926164,\n",
       "        1.15010043]])"
      ]
     },
     "execution_count": 4,
     "metadata": {},
     "output_type": "execute_result"
    }
   ],
   "source": [
    "data"
   ]
  },
  {
   "cell_type": "markdown",
   "metadata": {},
   "source": [
    "# 训练输入数据"
   ]
  },
  {
   "cell_type": "code",
   "execution_count": 5,
   "metadata": {},
   "outputs": [],
   "source": [
    "x_train = data[:, 1:]"
   ]
  },
  {
   "cell_type": "code",
   "execution_count": 6,
   "metadata": {},
   "outputs": [
    {
     "data": {
      "text/plain": [
       "(488, 100)"
      ]
     },
     "execution_count": 6,
     "metadata": {},
     "output_type": "execute_result"
    }
   ],
   "source": [
    "x_train.shape"
   ]
  },
  {
   "cell_type": "code",
   "execution_count": 7,
   "metadata": {},
   "outputs": [
    {
     "data": {
      "text/plain": [
       "array([[0.9504    , 0.91017596, 0.8668168 , ..., 0.9279857 , 0.90864443,\n",
       "        0.88728025],\n",
       "       [0.944     , 0.92151884, 0.89956195, ..., 0.80947454, 0.81089671,\n",
       "        0.82748167],\n",
       "       [0.97527273, 0.93375943, 0.89591803, ..., 0.77393658, 0.77883878,\n",
       "        0.7789887 ],\n",
       "       ...,\n",
       "       [1.064     , 1.11398675, 1.154354  , ..., 1.163317  , 1.083248  ,\n",
       "        1.1055555 ],\n",
       "       [1.288     , 1.20777574, 1.17090355, ..., 1.10673577, 1.19533924,\n",
       "        1.18931328],\n",
       "       [1.008     , 1.11866864, 1.16932352, ..., 1.14754931, 1.15926164,\n",
       "        1.15010043]])"
      ]
     },
     "execution_count": 7,
     "metadata": {},
     "output_type": "execute_result"
    }
   ],
   "source": [
    "x_train"
   ]
  },
  {
   "cell_type": "markdown",
   "metadata": {},
   "source": [
    "# 训练输出标准数据"
   ]
  },
  {
   "cell_type": "code",
   "execution_count": 8,
   "metadata": {},
   "outputs": [],
   "source": [
    "y_train = data[:, 0]"
   ]
  },
  {
   "cell_type": "code",
   "execution_count": 9,
   "metadata": {},
   "outputs": [
    {
     "data": {
      "text/plain": [
       "(488,)"
      ]
     },
     "execution_count": 9,
     "metadata": {},
     "output_type": "execute_result"
    }
   ],
   "source": [
    "y_train.shape"
   ]
  },
  {
   "cell_type": "code",
   "execution_count": 10,
   "metadata": {},
   "outputs": [
    {
     "data": {
      "text/plain": [
       "array([0., 0., 0., 0., 0., 0., 0., 0., 0., 0., 0., 0., 1., 1., 1., 1., 1.,\n",
       "       1., 1., 1., 1., 1., 1., 1., 1., 1., 1., 1., 1., 1., 1., 1., 1., 1.,\n",
       "       1., 1., 1., 1., 1., 1., 1., 1., 1., 1., 1., 1., 1., 1., 1., 1., 1.,\n",
       "       1., 1., 1., 1., 1., 1., 1., 1., 1., 1., 1., 1., 1., 1., 1., 1., 1.,\n",
       "       1., 1., 1., 1., 1., 1., 1., 1., 1., 1., 1., 1., 1., 1., 1., 1., 1.,\n",
       "       1., 1., 1., 1., 1., 1., 1., 1., 1., 1., 1., 1., 1., 1., 1., 1., 1.,\n",
       "       1., 1., 1., 1., 1., 1., 1., 1., 1., 1., 1., 1., 1., 1., 1., 1., 1.,\n",
       "       1., 1., 1., 1., 1., 1., 1., 1., 1., 1., 1., 1., 1., 1., 1., 1., 1.,\n",
       "       1., 1., 1., 1., 1., 1., 1., 1., 1., 1., 1., 1., 1., 1., 1., 1., 1.,\n",
       "       1., 1., 1., 1., 1., 1., 1., 1., 1., 1., 1., 1., 1., 1., 1., 1., 1.,\n",
       "       1., 1., 1., 1., 1., 1., 1., 1., 1., 1., 1., 1., 1., 1., 1., 1., 1.,\n",
       "       1., 1., 1., 1., 1., 1., 1., 1., 1., 1., 1., 1., 1., 1., 1., 1., 1.,\n",
       "       1., 1., 1., 1., 1., 1., 1., 1., 1., 1., 1., 1., 1., 1., 1., 1., 1.,\n",
       "       1., 1., 1., 1., 1., 0., 0., 0., 0., 1., 1., 1., 1., 1., 1., 1., 1.,\n",
       "       1., 1., 1., 1., 1., 1., 1., 1., 1., 1., 1., 1., 1., 1., 1., 1., 1.,\n",
       "       1., 1., 1., 1., 1., 1., 1., 1., 1., 1., 1., 1., 1., 1., 1., 1., 1.,\n",
       "       1., 1., 1., 1., 1., 1., 1., 1., 1., 1., 1., 1., 1., 1., 1., 1., 1.,\n",
       "       1., 1., 1., 1., 1., 1., 1., 1., 1., 1., 1., 1., 1., 1., 1., 1., 1.,\n",
       "       1., 1., 1., 1., 1., 1., 1., 1., 1., 1., 1., 1., 1., 1., 1., 1., 1.,\n",
       "       1., 1., 1., 1., 1., 1., 1., 1., 1., 1., 1., 1., 1., 1., 1., 1., 1.,\n",
       "       1., 1., 1., 1., 1., 1., 1., 1., 1., 1., 1., 0., 0., 1., 1., 1., 1.,\n",
       "       1., 1., 1., 1., 1., 1., 1., 1., 1., 1., 1., 1., 1., 1., 1., 1., 1.,\n",
       "       1., 1., 1., 1., 1., 1., 1., 1., 1., 1., 1., 1., 1., 1., 1., 1., 1.,\n",
       "       1., 1., 1., 1., 1., 1., 1., 1., 1., 1., 1., 1., 1., 1., 1., 1., 1.,\n",
       "       1., 1., 1., 1., 1., 1., 1., 1., 1., 1., 1., 1., 1., 1., 1., 1., 1.,\n",
       "       1., 1., 1., 1., 1., 1., 1., 1., 1., 1., 1., 1., 1., 1., 1., 1., 1.,\n",
       "       1., 1., 1., 1., 1., 1., 1., 1., 1., 1., 1., 1., 1., 1., 1., 1., 1.,\n",
       "       1., 1., 1., 1., 1., 1., 1., 1., 1., 1., 1., 1., 1., 1., 1., 1., 1.,\n",
       "       1., 1., 1., 1., 1., 1., 1., 1., 1., 1., 1., 1.])"
      ]
     },
     "execution_count": 10,
     "metadata": {},
     "output_type": "execute_result"
    }
   ],
   "source": [
    "y_train"
   ]
  },
  {
   "cell_type": "markdown",
   "metadata": {},
   "source": [
    "# 测试numpy合并"
   ]
  },
  {
   "cell_type": "code",
   "execution_count": 11,
   "metadata": {},
   "outputs": [
    {
     "data": {
      "text/plain": [
       "array([[1],\n",
       "       [2],\n",
       "       [3],\n",
       "       [1],\n",
       "       [2],\n",
       "       [3]])"
      ]
     },
     "execution_count": 11,
     "metadata": {},
     "output_type": "execute_result"
    }
   ],
   "source": [
    "import numpy as np\n",
    "\n",
    "first = np.array([[1],\n",
    "                   [2],\n",
    "                   [3]])\n",
    "\n",
    "second = np.array([[1],\n",
    "                   [2],\n",
    "                   [3]])\n",
    "\n",
    "np.concatenate((first, second), axis=0)"
   ]
  },
  {
   "cell_type": "markdown",
   "metadata": {},
   "source": [
    "# 把所有册数数据合并成为一个numpy"
   ]
  },
  {
   "cell_type": "code",
   "execution_count": 12,
   "metadata": {},
   "outputs": [],
   "source": [
    "import os\n",
    "import os.path\n",
    "\n",
    "\n",
    "def get_files(target_dir):\n",
    "    item_list = os.listdir(target_dir)\n",
    "    file_list = list()\n",
    "    for item in item_list:\n",
    "        item_dir = os.path.join(target_dir,item)\n",
    "        file_list.append(item_dir)\n",
    "    return file_list"
   ]
  },
  {
   "cell_type": "code",
   "execution_count": 13,
   "metadata": {},
   "outputs": [],
   "source": [
    "dir_list = get_files(\"./spil_npy/rr_16857\")"
   ]
  },
  {
   "cell_type": "code",
   "execution_count": 14,
   "metadata": {},
   "outputs": [
    {
     "data": {
      "text/plain": [
       "['./spil_npy/rr_16857/x_16.npy',\n",
       " './spil_npy/rr_16857/x_17.npy',\n",
       " './spil_npy/rr_16857/x_15.npy',\n",
       " './spil_npy/rr_16857/x_29.npy',\n",
       " './spil_npy/rr_16857/x_28.npy',\n",
       " './spil_npy/rr_16857/x_14.npy',\n",
       " './spil_npy/rr_16857/x_10.npy',\n",
       " './spil_npy/rr_16857/x_11.npy',\n",
       " './spil_npy/rr_16857/x_9.npy',\n",
       " './spil_npy/rr_16857/x_13.npy',\n",
       " './spil_npy/rr_16857/x_12.npy',\n",
       " './spil_npy/rr_16857/x_8.npy',\n",
       " './spil_npy/rr_16857/x_5.npy',\n",
       " './spil_npy/rr_16857/x_23.npy',\n",
       " './spil_npy/rr_16857/x_22.npy',\n",
       " './spil_npy/rr_16857/x_4.npy',\n",
       " './spil_npy/rr_16857/x_6.npy',\n",
       " './spil_npy/rr_16857/x_34.npy',\n",
       " './spil_npy/rr_16857/x_20.npy',\n",
       " './spil_npy/rr_16857/x_21.npy',\n",
       " './spil_npy/rr_16857/x_35.npy',\n",
       " './spil_npy/rr_16857/x_7.npy',\n",
       " './spil_npy/rr_16857/x_3.npy',\n",
       " './spil_npy/rr_16857/x_19.npy',\n",
       " './spil_npy/rr_16857/x_31.npy',\n",
       " './spil_npy/rr_16857/x_25.npy',\n",
       " './spil_npy/rr_16857/x_24.npy',\n",
       " './spil_npy/rr_16857/x_30.npy',\n",
       " './spil_npy/rr_16857/x_18.npy',\n",
       " './spil_npy/rr_16857/x_2.npy',\n",
       " './spil_npy/rr_16857/x_26.npy',\n",
       " './spil_npy/rr_16857/x_32.npy',\n",
       " './spil_npy/rr_16857/x_33.npy',\n",
       " './spil_npy/rr_16857/x_27.npy',\n",
       " './spil_npy/rr_16857/x_1.npy']"
      ]
     },
     "execution_count": 14,
     "metadata": {},
     "output_type": "execute_result"
    }
   ],
   "source": [
    "dir_list"
   ]
  },
  {
   "cell_type": "code",
   "execution_count": 15,
   "metadata": {},
   "outputs": [],
   "source": [
    "x_train = np.empty(shape=[0, 100])\n",
    "y_train = np.empty(shape=[0, ])\n",
    "\n",
    "\n",
    "for file in dir_list:\n",
    "    npy = np.load('./spil_npy/rr_16857/x_1.npy')\n",
    "    data = npy[0][0]\n",
    "    sub_x_train = data[:, 1:]\n",
    "    sub_y_train = data[:, 0]\n",
    "    x_train = np.concatenate((x_train, sub_x_train), axis=0)\n",
    "    y_train = np.concatenate((y_train, sub_y_train), axis=0)"
   ]
  },
  {
   "cell_type": "code",
   "execution_count": 16,
   "metadata": {},
   "outputs": [
    {
     "data": {
      "text/plain": [
       "array([[0.9504    , 0.91017596, 0.8668168 , ..., 0.9279857 , 0.90864443,\n",
       "        0.88728025],\n",
       "       [0.944     , 0.92151884, 0.89956195, ..., 0.80947454, 0.81089671,\n",
       "        0.82748167],\n",
       "       [0.97527273, 0.93375943, 0.89591803, ..., 0.77393658, 0.77883878,\n",
       "        0.7789887 ],\n",
       "       ...,\n",
       "       [1.064     , 1.11398675, 1.154354  , ..., 1.163317  , 1.083248  ,\n",
       "        1.1055555 ],\n",
       "       [1.288     , 1.20777574, 1.17090355, ..., 1.10673577, 1.19533924,\n",
       "        1.18931328],\n",
       "       [1.008     , 1.11866864, 1.16932352, ..., 1.14754931, 1.15926164,\n",
       "        1.15010043]])"
      ]
     },
     "execution_count": 16,
     "metadata": {},
     "output_type": "execute_result"
    }
   ],
   "source": [
    "x_train"
   ]
  },
  {
   "cell_type": "code",
   "execution_count": 17,
   "metadata": {},
   "outputs": [
    {
     "data": {
      "text/plain": [
       "(17080, 100)"
      ]
     },
     "execution_count": 17,
     "metadata": {},
     "output_type": "execute_result"
    }
   ],
   "source": [
    "x_train.shape"
   ]
  },
  {
   "cell_type": "code",
   "execution_count": 18,
   "metadata": {},
   "outputs": [
    {
     "data": {
      "text/plain": [
       "array([0., 0., 0., ..., 1., 1., 1.])"
      ]
     },
     "execution_count": 18,
     "metadata": {},
     "output_type": "execute_result"
    }
   ],
   "source": [
    "y_train"
   ]
  },
  {
   "cell_type": "code",
   "execution_count": 19,
   "metadata": {},
   "outputs": [
    {
     "data": {
      "text/plain": [
       "(17080,)"
      ]
     },
     "execution_count": 19,
     "metadata": {},
     "output_type": "execute_result"
    }
   ],
   "source": [
    "y_train.shape"
   ]
  },
  {
   "cell_type": "code",
   "execution_count": null,
   "metadata": {},
   "outputs": [],
   "source": []
  },
  {
   "cell_type": "code",
   "execution_count": null,
   "metadata": {},
   "outputs": [],
   "source": []
  }
 ],
 "metadata": {
  "kernelspec": {
   "display_name": "Python 3",
   "language": "python",
   "name": "python3"
  },
  "language_info": {
   "codemirror_mode": {
    "name": "ipython",
    "version": 3
   },
   "file_extension": ".py",
   "mimetype": "text/x-python",
   "name": "python",
   "nbconvert_exporter": "python",
   "pygments_lexer": "ipython3",
   "version": "3.6.7"
  }
 },
 "nbformat": 4,
 "nbformat_minor": 2
}
